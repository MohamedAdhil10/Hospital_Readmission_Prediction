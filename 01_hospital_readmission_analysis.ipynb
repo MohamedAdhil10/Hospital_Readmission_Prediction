{
 "cells": [
  {
   "cell_type": "code",
   "execution_count": 1,
   "id": "8362bf4b-f24e-45e1-b557-116de91ff23a",
   "metadata": {},
   "outputs": [],
   "source": [
    "import pandas as pd\n",
    "import numpy as np\n",
    "import matplotlib.pyplot as plt\n",
    "import seaborn as sns\n",
    "import joblib\n",
    "from sklearn.model_selection import train_test_split, StratifiedKFold, GridSearchCV\n",
    "from sklearn.pipeline import Pipeline\n",
    "from sklearn.impute import SimpleImputer\n",
    "from sklearn.preprocessing import StandardScaler, OneHotEncoder\n",
    "from sklearn.compose import ColumnTransformer\n",
    "from sklearn.linear_model import LogisticRegression\n",
    "from sklearn.ensemble import RandomForestClassifier\n",
    "import xgboost as xgb\n",
    "from sklearn.metrics import roc_auc_score, precision_recall_curve, auc, classification_report, confusion_matrix\n",
    "import shap\n",
    "import category_encoders as ce"
   ]
  },
  {
   "cell_type": "code",
   "execution_count": 3,
   "id": "b3b0aa21-e69f-404f-91dd-73346cc55a0c",
   "metadata": {},
   "outputs": [
    {
     "name": "stdout",
     "output_type": "stream",
     "text": [
      "Dataset shape: (25000, 17)\n"
     ]
    }
   ],
   "source": [
    "df = pd.read_csv('hospital_readmissions.csv')\n",
    "print(\"Dataset shape:\", df.shape)"
   ]
  },
  {
   "cell_type": "code",
   "execution_count": 5,
   "id": "b779a209-57e0-43c9-9896-e709fa07fbb0",
   "metadata": {},
   "outputs": [
    {
     "name": "stdout",
     "output_type": "stream",
     "text": [
      "       age  time_in_hospital  n_lab_procedures  n_procedures  n_medications  \\\n",
      "0  [70-80)                 8                72             1             18   \n",
      "1  [70-80)                 3                34             2             13   \n",
      "2  [50-60)                 5                45             0             18   \n",
      "3  [70-80)                 2                36             0             12   \n",
      "4  [60-70)                 1                42             0              7   \n",
      "\n",
      "   n_outpatient  n_inpatient  n_emergency medical_specialty       diag_1  \\\n",
      "0             2            0            0           Missing  Circulatory   \n",
      "1             0            0            0             Other        Other   \n",
      "2             0            0            0           Missing  Circulatory   \n",
      "3             1            0            0           Missing  Circulatory   \n",
      "4             0            0            0  InternalMedicine        Other   \n",
      "\n",
      "        diag_2       diag_3 glucose_test A1Ctest change diabetes_med  \\\n",
      "0  Respiratory        Other           no      no     no          yes   \n",
      "1        Other        Other           no      no     no          yes   \n",
      "2  Circulatory  Circulatory           no      no    yes          yes   \n",
      "3        Other     Diabetes           no      no    yes          yes   \n",
      "4  Circulatory  Respiratory           no      no     no          yes   \n",
      "\n",
      "  readmitted  \n",
      "0         no  \n",
      "1         no  \n",
      "2        yes  \n",
      "3        yes  \n",
      "4         no  \n"
     ]
    }
   ],
   "source": [
    "print(df.head())"
   ]
  },
  {
   "cell_type": "code",
   "execution_count": 7,
   "id": "83a03a91-996b-4c23-b261-39ff5d1bcdfb",
   "metadata": {},
   "outputs": [
    {
     "name": "stdout",
     "output_type": "stream",
     "text": [
      "<class 'pandas.core.frame.DataFrame'>\n",
      "RangeIndex: 25000 entries, 0 to 24999\n",
      "Data columns (total 17 columns):\n",
      " #   Column             Non-Null Count  Dtype \n",
      "---  ------             --------------  ----- \n",
      " 0   age                25000 non-null  object\n",
      " 1   time_in_hospital   25000 non-null  int64 \n",
      " 2   n_lab_procedures   25000 non-null  int64 \n",
      " 3   n_procedures       25000 non-null  int64 \n",
      " 4   n_medications      25000 non-null  int64 \n",
      " 5   n_outpatient       25000 non-null  int64 \n",
      " 6   n_inpatient        25000 non-null  int64 \n",
      " 7   n_emergency        25000 non-null  int64 \n",
      " 8   medical_specialty  25000 non-null  object\n",
      " 9   diag_1             25000 non-null  object\n",
      " 10  diag_2             25000 non-null  object\n",
      " 11  diag_3             25000 non-null  object\n",
      " 12  glucose_test       25000 non-null  object\n",
      " 13  A1Ctest            25000 non-null  object\n",
      " 14  change             25000 non-null  object\n",
      " 15  diabetes_med       25000 non-null  object\n",
      " 16  readmitted         25000 non-null  object\n",
      "dtypes: int64(7), object(10)\n",
      "memory usage: 3.2+ MB\n",
      "None\n"
     ]
    }
   ],
   "source": [
    "print(df.info())"
   ]
  },
  {
   "cell_type": "code",
   "execution_count": 9,
   "id": "6e69fdcd-94ea-4ee4-b7d0-fe71d40f8851",
   "metadata": {},
   "outputs": [
    {
     "name": "stdout",
     "output_type": "stream",
     "text": [
      "       time_in_hospital  n_lab_procedures  n_procedures  n_medications  \\\n",
      "count       25000.00000       25000.00000  25000.000000   25000.000000   \n",
      "mean            4.45332          43.24076      1.352360      16.252400   \n",
      "std             3.00147          19.81862      1.715179       8.060532   \n",
      "min             1.00000           1.00000      0.000000       1.000000   \n",
      "25%             2.00000          31.00000      0.000000      11.000000   \n",
      "50%             4.00000          44.00000      1.000000      15.000000   \n",
      "75%             6.00000          57.00000      2.000000      20.000000   \n",
      "max            14.00000         113.00000      6.000000      79.000000   \n",
      "\n",
      "       n_outpatient   n_inpatient   n_emergency  \n",
      "count  25000.000000  25000.000000  25000.000000  \n",
      "mean       0.366400      0.615960      0.186600  \n",
      "std        1.195478      1.177951      0.885873  \n",
      "min        0.000000      0.000000      0.000000  \n",
      "25%        0.000000      0.000000      0.000000  \n",
      "50%        0.000000      0.000000      0.000000  \n",
      "75%        0.000000      1.000000      0.000000  \n",
      "max       33.000000     15.000000     64.000000  \n"
     ]
    }
   ],
   "source": [
    "print(df.describe())"
   ]
  },
  {
   "cell_type": "markdown",
   "id": "9916f3c4-2ef9-4c64-bd54-6643bae103b4",
   "metadata": {},
   "source": [
    "Data Cleaning"
   ]
  },
  {
   "cell_type": "code",
   "execution_count": 11,
   "id": "df04e15d-b16f-4b3e-b5a1-118133c8f89b",
   "metadata": {},
   "outputs": [],
   "source": [
    "df.columns = [c.strip().lower() for c in df.columns]"
   ]
  },
  {
   "cell_type": "code",
   "execution_count": 13,
   "id": "c61af059-4817-4373-a72f-ed43dda5e199",
   "metadata": {},
   "outputs": [],
   "source": [
    "df['readmitted'] = df['readmitted'].str.strip().str.lower()\n",
    "df['medical_specialty'] = df['medical_specialty'].astype(str).str.strip()\n",
    "df['age'] = df['age'].astype(str).str.strip()\n",
    "df['readmit_30'] = df['readmitted'].map(lambda x: 1 if str(x).strip() == 'yes' else 0)"
   ]
  },
  {
   "cell_type": "code",
   "execution_count": 15,
   "id": "edfa29eb-1e02-4452-a56f-60fa3c4eb9ae",
   "metadata": {},
   "outputs": [
    {
     "name": "stdout",
     "output_type": "stream",
     "text": [
      "Rows: 25000\n",
      "Unique readmitted values: ['no' 'yes']\n",
      "Unique specialties: 7\n"
     ]
    }
   ],
   "source": [
    "print(\"Rows:\", len(df))\n",
    "print(\"Unique readmitted values:\", df['readmitted'].unique())\n",
    "print(\"Unique specialties:\", df['medical_specialty'].nunique())"
   ]
  },
  {
   "cell_type": "markdown",
   "id": "ed77d69c-8922-4d9a-a001-7490d8f2e175",
   "metadata": {},
   "source": [
    "EDA"
   ]
  },
  {
   "cell_type": "code",
   "execution_count": 17,
   "id": "2bafb1ea-dbef-4e57-9ba7-fdc166aace39",
   "metadata": {},
   "outputs": [
    {
     "name": "stdout",
     "output_type": "stream",
     "text": [
      "\n",
      "Overall Readmission Rate (%):\n",
      " readmitted\n",
      "no     52.984\n",
      "yes    47.016\n",
      "Name: proportion, dtype: float64\n"
     ]
    }
   ],
   "source": [
    "overall_readmission = df['readmitted'].value_counts(normalize=True) * 100\n",
    "print(\"\\nOverall Readmission Rate (%):\\n\", overall_readmission)"
   ]
  },
  {
   "cell_type": "code",
   "execution_count": 19,
   "id": "d739c059-aeea-4257-b5b3-3db9d28a3988",
   "metadata": {},
   "outputs": [
    {
     "name": "stdout",
     "output_type": "stream",
     "text": [
      "\n",
      "Average Hospital Stay:\n",
      " readmitted\n",
      "no     4.331345\n",
      "yes    4.590778\n",
      "Name: time_in_hospital, dtype: float64\n"
     ]
    }
   ],
   "source": [
    "avg_stay = df.groupby('readmitted')['time_in_hospital'].mean()\n",
    "print(\"\\nAverage Hospital Stay:\\n\", avg_stay)"
   ]
  },
  {
   "cell_type": "code",
   "execution_count": 21,
   "id": "50cb72e4-a1b9-474b-bdfb-f8d600fe385f",
   "metadata": {},
   "outputs": [
    {
     "name": "stdout",
     "output_type": "stream",
     "text": [
      "\n",
      "Readmission Rate by Specialty:\n",
      " readmitted                    no       yes\n",
      "medical_specialty                         \n",
      "Family/GeneralPractice  0.504782  0.495218\n",
      "Emergency/Trauma        0.506101  0.493899\n",
      "Missing                 0.510903  0.489097\n",
      "Cardiology              0.550035  0.449965\n",
      "InternalMedicine        0.552314  0.447686\n",
      "Other                   0.585210  0.414790\n",
      "Surgery                 0.587799  0.412201\n"
     ]
    }
   ],
   "source": [
    "readmission_by_specialty = df.groupby('medical_specialty')['readmitted'].value_counts(normalize=True).unstack().fillna(0)\n",
    "readmission_by_specialty = readmission_by_specialty.sort_values(by='yes', ascending=False)\n",
    "print(\"\\nReadmission Rate by Specialty:\\n\", readmission_by_specialty.head(10))"
   ]
  },
  {
   "cell_type": "code",
   "execution_count": 23,
   "id": "a8ba6595-c9df-41b0-8753-97a912f908fa",
   "metadata": {},
   "outputs": [
    {
     "name": "stdout",
     "output_type": "stream",
     "text": [
      "\n",
      "Readmission Rate by Diabetes Medication:\n",
      " readmitted          no       yes\n",
      "diabetes_med                    \n",
      "no            0.586452  0.413548\n",
      "yes           0.512846  0.487154\n"
     ]
    }
   ],
   "source": [
    "readmission_by_med = df.groupby('diabetes_med')['readmitted'].value_counts(normalize=True).unstack().fillna(0)\n",
    "print(\"\\nReadmission Rate by Diabetes Medication:\\n\", readmission_by_med)"
   ]
  },
  {
   "cell_type": "code",
   "execution_count": 25,
   "id": "d1ff0a75-7d50-464c-a0ad-0841fd7ff55c",
   "metadata": {},
   "outputs": [
    {
     "name": "stdout",
     "output_type": "stream",
     "text": [
      "\n",
      "Readmission Rate by A1C Test Result:\n",
      " readmitted        no       yes\n",
      "a1ctest                       \n",
      "high        0.540502  0.459498\n",
      "no          0.525504  0.474496\n",
      "normal      0.578947  0.421053\n"
     ]
    }
   ],
   "source": [
    "readmission_by_a1c = df.groupby('a1ctest')['readmitted'].value_counts(normalize=True).unstack().fillna(0)\n",
    "print(\"\\nReadmission Rate by A1C Test Result:\\n\", readmission_by_a1c)"
   ]
  },
  {
   "cell_type": "code",
   "execution_count": 27,
   "id": "b46338b7-aa52-47d6-8ea2-296aa6a6ac85",
   "metadata": {},
   "outputs": [
    {
     "name": "stdout",
     "output_type": "stream",
     "text": [
      "\n",
      "Readmission Rate by Primary Diagnosis:\n",
      " readmitted             no       yes\n",
      "diag_1                             \n",
      "Diabetes         0.463652  0.536348\n",
      "Missing          0.500000  0.500000\n",
      "Respiratory      0.509239  0.490761\n",
      "Circulatory      0.520706  0.479294\n",
      "Digestive        0.525547  0.474453\n",
      "Other            0.548784  0.451216\n",
      "Injury           0.563625  0.436375\n",
      "Musculoskeletal  0.604633  0.395367\n"
     ]
    }
   ],
   "source": [
    "readmission_by_diag = df.groupby('diag_1')['readmitted'].value_counts(normalize=True).unstack().fillna(0)\n",
    "readmission_by_diag = readmission_by_diag.sort_values(by='yes', ascending=False)\n",
    "print(\"\\nReadmission Rate by Primary Diagnosis:\\n\", readmission_by_diag.head(10))"
   ]
  },
  {
   "cell_type": "markdown",
   "id": "59db3b3d-9b34-4994-97db-33439d08e3f3",
   "metadata": {},
   "source": [
    "Visualization"
   ]
  },
  {
   "cell_type": "code",
   "execution_count": 29,
   "id": "3d9eb122-31c1-4508-957d-f1c23e1f82ee",
   "metadata": {},
   "outputs": [
    {
     "data": {
      "image/png": "[encoded data removed]",
      "text/plain": [
       "<Figure size 600x600 with 1 Axes>"
      ]
     },
     "metadata": {},
     "output_type": "display_data"
    }
   ],
   "source": [
    "plt.figure(figsize=(6,6))\n",
    "overall_readmission.plot(kind='pie', autopct='%1.1f%%', colors=['lightgreen','salmon'])\n",
    "plt.title(\"Overall Readmission Rate\")\n",
    "plt.ylabel('')\n",
    "plt.show()"
   ]
  },
  {
   "cell_type": "code",
   "execution_count": 31,
   "id": "6b5a294e-95b9-4e21-99ef-d223173df6c6",
   "metadata": {},
   "outputs": [
    {
     "data": {
      "image/png": "[encoded data removed]",
      "text/plain": [
       "<Figure size 600x400 with 1 Axes>"
      ]
     },
     "metadata": {},
     "output_type": "display_data"
    }
   ],
   "source": [
    "plt.figure(figsize=(6,4))\n",
    "avg_stay.plot(kind='bar', color='skyblue')\n",
    "plt.title(\"Average Hospital Stay by Readmission\")\n",
    "plt.ylabel(\"Days\")\n",
    "plt.show()"
   ]
  },
  {
   "cell_type": "code",
   "execution_count": 33,
   "id": "93843d29-8674-4cc7-9427-740f38a2d875",
   "metadata": {},
   "outputs": [
    {
     "data": {
      "image/png": "[encoded data removed]",
      "text/plain": [
       "<Figure size 1200x600 with 1 Axes>"
      ]
     },
     "metadata": {},
     "output_type": "display_data"
    }
   ],
   "source": [
    "plt.figure(figsize=(12,6))\n",
    "readmission_by_specialty['yes'].head(10).plot(kind='bar', color='salmon')\n",
    "plt.title(\"Top 10 Medical Specialties by Readmission Rate\")\n",
    "plt.ylabel(\"Readmission Rate (%)\")\n",
    "plt.xlabel(\"Medical Specialty\")\n",
    "plt.show()"
   ]
  },
  {
   "cell_type": "code",
   "execution_count": 35,
   "id": "dcf0a98c-51e2-4e17-ace6-b480c0152975",
   "metadata": {},
   "outputs": [
    {
     "data": {
      "image/png": "[encoded data removed]",
      "text/plain": [
       "<Figure size 600x400 with 1 Axes>"
      ]
     },
     "metadata": {},
     "output_type": "display_data"
    }
   ],
   "source": [
    "plt.figure(figsize=(6,4))\n",
    "readmission_by_a1c['yes'].plot(kind='bar', color='orange')\n",
    "plt.title(\"Readmission Rate by A1C Test Result\")\n",
    "plt.ylabel(\"Readmission Rate (%)\")\n",
    "plt.show()"
   ]
  },
  {
   "cell_type": "markdown",
   "id": "8fcc8ba4-2b9a-462e-8e03-b49cc015347a",
   "metadata": {},
   "source": [
    "Export tables for PowerBI"
   ]
  },
  {
   "cell_type": "code",
   "execution_count": 37,
   "id": "56895f9d-9765-4514-8851-41417a8cad2a",
   "metadata": {},
   "outputs": [
    {
     "name": "stdout",
     "output_type": "stream",
     "text": [
      "\n",
      " CSV files exported for Power BI dashboards\n"
     ]
    }
   ],
   "source": [
    "readmission_by_specialty.reset_index().to_csv(\"readmission_by_specialty.csv\", index=False)\n",
    "readmission_by_med.reset_index().to_csv(\"readmission_by_medication.csv\", index=False)\n",
    "readmission_by_a1c.reset_index().to_csv(\"readmission_by_a1c.csv\", index=False)\n",
    "readmission_by_diag.reset_index().to_csv(\"readmission_by_diag.csv\", index=False)\n",
    "print(\"\\n CSV files exported for Power BI dashboards\")"
   ]
  },
  {
   "cell_type": "markdown",
   "id": "ebf0ba17-85eb-4cd5-ba6e-300487f00525",
   "metadata": {},
   "source": [
    "ML Model Pipeline"
   ]
  },
  {
   "cell_type": "code",
   "execution_count": 39,
   "id": "65b4a479-43d7-49b5-b4c5-b8c493bb76b1",
   "metadata": {},
   "outputs": [],
   "source": [
    "numeric_cols = ['time_in_hospital','n_procedures','n_lab_procedures','n_medications','n_outpatient','n_inpatient','n_emergency']\n",
    "cat_features = [c for c in ['age','medical_specialty','diag_1','diag_2','diag_3','glucose_test','a1ctest','change','diabetes_med'] if c in df.columns]\n",
    "num_features = [c for c in numeric_cols if c in df.columns]"
   ]
  },
  {
   "cell_type": "code",
   "execution_count": 51,
   "id": "c15586a7-610c-47f1-921d-6c7b33089bbb",
   "metadata": {},
   "outputs": [],
   "source": [
    "for c in cat_features:\n",
    "    df[c] = df[c].fillna('Missing').astype(str)\n",
    "\n",
    "X = df[cat_features + num_features].copy()\n",
    "y = df['readmit_30'].astype(int)\n",
    "X_train, X_test, y_train, y_test = train_test_split(X, y, test_size=0.20, stratify=y, random_state=42)\n",
    "\n",
    "numeric_transformer = Pipeline([\n",
    "    ('imputer', SimpleImputer(strategy='median')),\n",
    "    ('scaler', StandardScaler())\n",
    "])\n",
    "\n",
    "categorical_transformer = Pipeline([\n",
    "    ('imputer', SimpleImputer(strategy='constant', fill_value='Missing')),\n",
    "    ('onehot', OneHotEncoder(handle_unknown='ignore', sparse_output=False))\n",
    "])\n",
    "\n",
    "preprocessor = ColumnTransformer(\n",
    "    transformers=[\n",
    "        ('num', numeric_transformer, num_features),\n",
    "        ('cat', categorical_transformer, cat_features)\n",
    "    ]\n",
    ")"
   ]
  },
  {
   "cell_type": "code",
   "execution_count": 59,
   "id": "64569ebd-0633-4594-bf10-c59a5e4aa7b3",
   "metadata": {},
   "outputs": [
    {
     "name": "stdout",
     "output_type": "stream",
     "text": [
      "\n",
      "Fitting baseline RandomForest...\n",
      "Baseline RF ROC AUC: 0.6384\n",
      "Classification report:\n",
      "               precision    recall  f1-score   support\n",
      "\n",
      "           0       0.62      0.69      0.65      2649\n",
      "           1       0.59      0.52      0.55      2351\n",
      "\n",
      "    accuracy                           0.61      5000\n",
      "   macro avg       0.60      0.60      0.60      5000\n",
      "weighted avg       0.61      0.61      0.60      5000\n",
      "\n",
      "Confusion matrix:\n",
      " [[1819  830]\n",
      " [1136 1215]]\n",
      "Baseline PR AUC: 0.605\n"
     ]
    }
   ],
   "source": [
    "rf_pipeline = Pipeline(steps=[\n",
    "    ('preproc', preprocessor),\n",
    "    ('clf', RandomForestClassifier(\n",
    "        n_estimators=300, \n",
    "        random_state=42, \n",
    "        class_weight='balanced', \n",
    "        n_jobs=-1\n",
    "    ))\n",
    "])\n",
    "\n",
    "print(\"\\nFitting baseline RandomForest...\")\n",
    "rf_pipeline.fit(X_train, y_train)\n",
    "\n",
    "y_proba = rf_pipeline.predict_proba(X_test)[:, 1]\n",
    "print(\"Baseline RF ROC AUC:\", round(roc_auc_score(y_test, y_proba), 4))\n",
    "\n",
    "y_pred = (y_proba >= 0.5).astype(int)\n",
    "print(\"Classification report:\\n\", classification_report(y_test, y_pred))\n",
    "print(\"Confusion matrix:\\n\", confusion_matrix(y_test, y_pred))\n",
    "\n",
    "precision, recall, _ = precision_recall_curve(y_test, y_proba)\n",
    "pr_auc = auc(recall, precision)\n",
    "print(\"Baseline PR AUC:\", round(pr_auc, 4))\n"
   ]
  },
  {
   "cell_type": "markdown",
   "id": "cb3cb5e3-feaf-4301-bf94-99e15baaf318",
   "metadata": {},
   "source": [
    "Hyperparameter tuning"
   ]
  },
  {
   "cell_type": "code",
   "execution_count": 61,
   "id": "14ace513-0dbd-4c74-a309-1e3623b415e9",
   "metadata": {},
   "outputs": [
    {
     "name": "stdout",
     "output_type": "stream",
     "text": [
      "Starting grid search (this may take a while)...\n",
      "Fitting 4 folds for each of 12 candidates, totalling 48 fits\n",
      "Best params: {'clf__max_depth': 16, 'clf__min_samples_leaf': 5, 'clf__n_estimators': 400}\n"
     ]
    }
   ],
   "source": [
    "param_grid = {\n",
    "    'clf__n_estimators': [200, 400],\n",
    "    'clf__max_depth': [8, 16, None],\n",
    "    'clf__min_samples_leaf': [1, 5]\n",
    "}\n",
    "cv = StratifiedKFold(n_splits=4, shuffle=True, random_state=42)\n",
    "gs = GridSearchCV(rf_pipeline, param_grid, scoring='roc_auc', cv=cv, n_jobs=-1, verbose=1)\n",
    "print(\"Starting grid search (this may take a while)...\")\n",
    "gs.fit(X_train, y_train)\n",
    "print(\"Best params:\", gs.best_params_)"
   ]
  },
  {
   "cell_type": "code",
   "execution_count": 63,
   "id": "4501e1ec-1b33-40c9-aebd-fa2454876258",
   "metadata": {},
   "outputs": [
    {
     "name": "stdout",
     "output_type": "stream",
     "text": [
      "Tuned RF Test ROC AUC: 0.6551\n",
      "Tuned classification report:\n",
      "               precision    recall  f1-score   support\n",
      "\n",
      "           0       0.63      0.67      0.65      2649\n",
      "           1       0.60      0.56      0.58      2351\n",
      "\n",
      "    accuracy                           0.62      5000\n",
      "   macro avg       0.62      0.62      0.62      5000\n",
      "weighted avg       0.62      0.62      0.62      5000\n",
      "\n"
     ]
    }
   ],
   "source": [
    "best_rf = gs.best_estimator_\n",
    "y_proba_best = best_rf.predict_proba(X_test)[:,1]\n",
    "print(\"Tuned RF Test ROC AUC:\", round(roc_auc_score(y_test, y_proba_best),4))\n",
    "y_pred_best = (y_proba_best >= 0.5).astype(int)\n",
    "print(\"Tuned classification report:\\n\", classification_report(y_test, y_pred_best))"
   ]
  },
  {
   "cell_type": "code",
   "execution_count": 65,
   "id": "c199ad49-e92b-41fa-b0f9-a099811186f7",
   "metadata": {},
   "outputs": [
    {
     "data": {
      "text/plain": [
       "['best_rf_readmit_corrected.pkl']"
      ]
     },
     "execution_count": 65,
     "metadata": {},
     "output_type": "execute_result"
    }
   ],
   "source": [
    "joblib.dump(best_rf, 'best_rf_readmit_corrected.pkl')"
   ]
  },
  {
   "cell_type": "markdown",
   "id": "d60a0e4a-18fc-499c-b73e-720139e1a09f",
   "metadata": {},
   "source": [
    "Feature Importance + SHAP"
   ]
  },
  {
   "cell_type": "code",
   "execution_count": 67,
   "id": "f037f32e-0d39-48a6-b665-391fa42b398e",
   "metadata": {},
   "outputs": [
    {
     "name": "stdout",
     "output_type": "stream",
     "text": [
      "Number of features after preprocessing: 54\n"
     ]
    }
   ],
   "source": [
    "num_names = num_features\n",
    "try:\n",
    "    ohe = best_rf.named_steps['preproc'].named_transformers_['cat'].named_steps['onehot']\n",
    "    ohe_names = list(ohe.get_feature_names_out(cat_features))\n",
    "except Exception:\n",
    "    ohe_names = []\n",
    "feature_names = list(num_names) + ohe_names\n",
    "print(\"Number of features after preprocessing:\", len(feature_names))"
   ]
  },
  {
   "cell_type": "code",
   "execution_count": 69,
   "id": "10b59f86-0d7d-43cf-b26d-f76f85a14de9",
   "metadata": {},
   "outputs": [
    {
     "name": "stdout",
     "output_type": "stream",
     "text": [
      "Top 20 features:\n",
      "                       feature  importance\n",
      "5                 n_inpatient    0.158165\n",
      "2            n_lab_procedures    0.114681\n",
      "3               n_medications    0.107042\n",
      "0            time_in_hospital    0.069403\n",
      "4                n_outpatient    0.052354\n",
      "1                n_procedures    0.048793\n",
      "6                 n_emergency    0.037916\n",
      "34               diag_2_Other    0.017919\n",
      "42               diag_3_Other    0.017264\n",
      "17  medical_specialty_Missing    0.017072\n",
      "36         diag_3_Circulatory    0.016601\n",
      "28         diag_2_Circulatory    0.016535\n",
      "26               diag_1_Other    0.015688\n",
      "10                age_[70-80)    0.015498\n",
      "20         diag_1_Circulatory    0.015360\n",
      "11                age_[80-90)    0.014239\n",
      "8                 age_[50-60)    0.013847\n",
      "9                 age_[60-70)    0.013217\n",
      "37            diag_3_Diabetes    0.012136\n",
      "51                 change_yes    0.011684\n"
     ]
    }
   ],
   "source": [
    "clf = best_rf.named_steps['clf']\n",
    "if hasattr(clf, \"feature_importances_\") and feature_names:\n",
    "    importances = clf.feature_importances_\n",
    "    fi = pd.DataFrame({'feature': feature_names, 'importance': importances}).sort_values('importance', ascending=False).head(40)\n",
    "    fi.to_csv('feature_importance_top40.csv', index=False)\n",
    "    print(\"Top 20 features:\\n\", fi.head(20))\n",
    "else:\n",
    "    print(\"Feature importances not available.\")"
   ]
  },
  {
   "cell_type": "code",
   "execution_count": 71,
   "id": "7dfbda89-4d81-425e-ad43-d9d19badf737",
   "metadata": {},
   "outputs": [
    {
     "name": "stdout",
     "output_type": "stream",
     "text": [
      "Computing SHAP values (may take some time)...\n"
     ]
    }
   ],
   "source": [
    "X_test_prep = best_rf.named_steps['preproc'].transform(X_test)\n",
    "tree_model = best_rf.named_steps['clf']\n",
    "print(\"Computing SHAP values (may take some time)...\")"
   ]
  },
  {
   "cell_type": "code",
   "execution_count": 73,
   "id": "500275af-0f28-445a-bda7-4b0c42fc2df1",
   "metadata": {},
   "outputs": [
    {
     "name": "stdout",
     "output_type": "stream",
     "text": [
      "Saved shap_summary.png\n"
     ]
    },
    {
     "data": {
      "text/plain": [
       "<Figure size 640x480 with 0 Axes>"
      ]
     },
     "metadata": {},
     "output_type": "display_data"
    }
   ],
   "source": [
    "explainer = shap.TreeExplainer(tree_model)\n",
    "shap_values = explainer.shap_values(X_test_prep)\n",
    "try:\n",
    "    shap_vals_pos = shap_values[1] if isinstance(shap_values, list) else shap_values\n",
    "    shap.summary_plot(shap_vals_pos, X_test_prep, feature_names=feature_names, show=False)\n",
    "    plt.tight_layout()\n",
    "    plt.savefig('shap_summary.png', dpi=200)\n",
    "    plt.close()\n",
    "    print(\"Saved shap_summary.png\")\n",
    "except Exception as e:\n",
    "    print(\"Could not create SHAP plot:\", e)"
   ]
  },
  {
   "cell_type": "markdown",
   "id": "59759377-4be4-4737-bc41-660cc42ef968",
   "metadata": {},
   "source": [
    "Dashboard table for Power BI"
   ]
  },
  {
   "cell_type": "code",
   "execution_count": 81,
   "id": "298fde36-8f9e-495e-8a40-628ac1a9caf3",
   "metadata": {},
   "outputs": [],
   "source": [
    "if isinstance(shap_values, list):\n",
    "    shap_vals_pos = shap_values[1]\n",
    "else:\n",
    "    if shap_values.ndim == 3 and shap_values.shape[-1] == 2:\n",
    "        shap_vals_pos = shap_values[:, :, 1]\n",
    "    else:\n",
    "        shap_vals_pos = shap_values"
   ]
  },
  {
   "cell_type": "code",
   "execution_count": 97,
   "id": "8427cf25-a0b0-49cc-956d-8e10eeb37fc7",
   "metadata": {},
   "outputs": [
    {
     "name": "stdout",
     "output_type": "stream",
     "text": [
      "Saved dashboard_table.csv – ready for Power BI\n"
     ]
    }
   ],
   "source": [
    "shap_df = pd.DataFrame(shap_vals_pos, columns=feature_names, index=X_test.index)\n",
    "def top_k_contribs(shap_row, k=3):\n",
    "    absvals = shap_row.abs()\n",
    "    topk = absvals.nlargest(k).index.tolist()\n",
    "    return topk, shap_row[topk].values.tolist()\n",
    "\n",
    "top_feats = shap_df.apply(lambda r: top_k_contribs(r, k=3), axis=1)\n",
    "top_feats_df = pd.DataFrame(top_feats.tolist(), index=shap_df.index, columns=['top_feats','top_vals'])\n",
    "top_feats_df[['top1','top2','top3']] = pd.DataFrame(top_feats_df['top_feats'].tolist(), index=top_feats_df.index)\n",
    "top_feats_df[['top1_val','top2_val','top3_val']] = pd.DataFrame(top_feats_df['top_vals'].tolist(), index=top_feats_df.index)\n",
    "\n",
    "X_test_out = X_test.copy().reset_index(drop=True)\n",
    "X_test_out['pred_readmit_prob'] = y_proba_best\n",
    "X_test_out['pred_readmit_flag'] = (X_test_out['pred_readmit_prob'] >= 0.5).astype(int)\n",
    "X_test_out['actual_readmit'] = y_test.reset_index(drop=True)\n",
    "\n",
    "top_feats_df = top_feats_df.reset_index(drop=True)\n",
    "dashboard_table = pd.concat([X_test_out, top_feats_df[['top1','top1_val','top2','top2_val','top3','top3_val']]], axis=1)\n",
    "dashboard_table.to_csv('dashboard_table.csv', index=False)\n",
    "print(\"Saved dashboard_table.csv – ready for Power BI\")"
   ]
  },
  {
   "cell_type": "code",
   "execution_count": 99,
   "id": "7596ccdf-9bb5-4508-a6c6-50510c513630",
   "metadata": {},
   "outputs": [
    {
     "name": "stdout",
     "output_type": "stream",
     "text": [
      "\n",
      " Pipeline complete. Files generated:\n",
      "  - best_rf_readmit_corrected.pkl\n",
      "  - feature_importance_top40.csv\n",
      "  - shap_summary.png\n",
      "  - dashboard_table.csv\n",
      "  - readmission_by_specialty.csv, etc. for Power BI\n"
     ]
    }
   ],
   "source": [
    "print(\"\\n Pipeline complete. Files generated:\")\n",
    "print(\"  - best_rf_readmit_corrected.pkl\")\n",
    "print(\"  - feature_importance_top40.csv\")\n",
    "print(\"  - shap_summary.png\")\n",
    "print(\"  - dashboard_table.csv\")\n",
    "print(\"  - readmission_by_specialty.csv, etc. for Power BI\")"
   ]
  },
  {
   "cell_type": "code",
   "execution_count": null,
   "id": "cf1a1521-aa1e-4359-9771-554b74926b5e",
   "metadata": {},
   "outputs": [],
   "source": []
  }
 ],
 "metadata": {
  "kernelspec": {
   "display_name": "Python 3 (ipykernel)",
   "language": "python",
   "name": "python3"
  },
  "language_info": {
   "codemirror_mode": {
    "name": "ipython",
    "version": 3
   },
   "file_extension": ".py",
   "mimetype": "text/x-python",
   "name": "python",
   "nbconvert_exporter": "python",
   "pygments_lexer": "ipython3",
   "version": "3.12.4"
  }
 },
 "nbformat": 4,
 "nbformat_minor": 5
}
